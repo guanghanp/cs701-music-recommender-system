{
 "cells": [
  {
   "cell_type": "markdown",
   "metadata": {},
   "source": [
    "# kkbox music recommendation"
   ]
  },
  {
   "cell_type": "markdown",
   "metadata": {},
   "source": [
    "## Import libraries and data"
   ]
  },
  {
   "cell_type": "code",
   "execution_count": 1,
   "metadata": {
    "_uuid": "615d54795549a1c3b2b5a259829a833f9fb76afe"
   },
   "outputs": [],
   "source": [
    "import numpy as np\n",
    "import pandas as pd \n",
    "import seaborn as sns \n",
    "import matplotlib.pyplot as plt"
   ]
  },
  {
   "cell_type": "code",
   "execution_count": 2,
   "metadata": {
    "_uuid": "8dffd3dcdb1a46d8c558cba0981b10b86718afbe"
   },
   "outputs": [
    {
     "ename": "FileNotFoundError",
     "evalue": "File b'../input/wsdm-kkbox/train.csv' does not exist",
     "output_type": "error",
     "traceback": [
      "\u001b[0;31m---------------------------------------------------------------------------\u001b[0m",
      "\u001b[0;31mFileNotFoundError\u001b[0m                         Traceback (most recent call last)",
      "\u001b[0;32m<ipython-input-2-493248cc9abb>\u001b[0m in \u001b[0;36m<module>\u001b[0;34m\u001b[0m\n\u001b[0;32m----> 1\u001b[0;31m \u001b[0mtrain\u001b[0m \u001b[0;34m=\u001b[0m \u001b[0mpd\u001b[0m\u001b[0;34m.\u001b[0m\u001b[0mread_csv\u001b[0m\u001b[0;34m(\u001b[0m\u001b[0;34m'../input/wsdm-kkbox/train.csv'\u001b[0m\u001b[0;34m)\u001b[0m\u001b[0;34m\u001b[0m\u001b[0;34m\u001b[0m\u001b[0m\n\u001b[0m\u001b[1;32m      2\u001b[0m \u001b[0mtest\u001b[0m \u001b[0;34m=\u001b[0m \u001b[0mpd\u001b[0m\u001b[0;34m.\u001b[0m\u001b[0mread_csv\u001b[0m\u001b[0;34m(\u001b[0m\u001b[0;34m'../input/wsdm-kkbox/test.csv'\u001b[0m\u001b[0;34m)\u001b[0m\u001b[0;34m\u001b[0m\u001b[0;34m\u001b[0m\u001b[0m\n\u001b[1;32m      3\u001b[0m \u001b[0msongs\u001b[0m \u001b[0;34m=\u001b[0m \u001b[0mpd\u001b[0m\u001b[0;34m.\u001b[0m\u001b[0mread_csv\u001b[0m\u001b[0;34m(\u001b[0m\u001b[0;34m'../input/wsdm-kkbox/songs.csv'\u001b[0m\u001b[0;34m)\u001b[0m\u001b[0;34m\u001b[0m\u001b[0;34m\u001b[0m\u001b[0m\n\u001b[1;32m      4\u001b[0m \u001b[0mmembers\u001b[0m \u001b[0;34m=\u001b[0m \u001b[0mpd\u001b[0m\u001b[0;34m.\u001b[0m\u001b[0mread_csv\u001b[0m\u001b[0;34m(\u001b[0m\u001b[0;34m'../input/wsdm-kkbox/members.csv'\u001b[0m\u001b[0;34m)\u001b[0m\u001b[0;34m\u001b[0m\u001b[0;34m\u001b[0m\u001b[0m\n",
      "\u001b[0;32m/usr/local/lib/python3.7/site-packages/pandas/io/parsers.py\u001b[0m in \u001b[0;36mparser_f\u001b[0;34m(filepath_or_buffer, sep, delimiter, header, names, index_col, usecols, squeeze, prefix, mangle_dupe_cols, dtype, engine, converters, true_values, false_values, skipinitialspace, skiprows, nrows, na_values, keep_default_na, na_filter, verbose, skip_blank_lines, parse_dates, infer_datetime_format, keep_date_col, date_parser, dayfirst, iterator, chunksize, compression, thousands, decimal, lineterminator, quotechar, quoting, escapechar, comment, encoding, dialect, tupleize_cols, error_bad_lines, warn_bad_lines, skipfooter, doublequote, delim_whitespace, low_memory, memory_map, float_precision)\u001b[0m\n\u001b[1;32m    676\u001b[0m                     skip_blank_lines=skip_blank_lines)\n\u001b[1;32m    677\u001b[0m \u001b[0;34m\u001b[0m\u001b[0m\n\u001b[0;32m--> 678\u001b[0;31m         \u001b[0;32mreturn\u001b[0m \u001b[0m_read\u001b[0m\u001b[0;34m(\u001b[0m\u001b[0mfilepath_or_buffer\u001b[0m\u001b[0;34m,\u001b[0m \u001b[0mkwds\u001b[0m\u001b[0;34m)\u001b[0m\u001b[0;34m\u001b[0m\u001b[0;34m\u001b[0m\u001b[0m\n\u001b[0m\u001b[1;32m    679\u001b[0m \u001b[0;34m\u001b[0m\u001b[0m\n\u001b[1;32m    680\u001b[0m     \u001b[0mparser_f\u001b[0m\u001b[0;34m.\u001b[0m\u001b[0m__name__\u001b[0m \u001b[0;34m=\u001b[0m \u001b[0mname\u001b[0m\u001b[0;34m\u001b[0m\u001b[0;34m\u001b[0m\u001b[0m\n",
      "\u001b[0;32m/usr/local/lib/python3.7/site-packages/pandas/io/parsers.py\u001b[0m in \u001b[0;36m_read\u001b[0;34m(filepath_or_buffer, kwds)\u001b[0m\n\u001b[1;32m    438\u001b[0m \u001b[0;34m\u001b[0m\u001b[0m\n\u001b[1;32m    439\u001b[0m     \u001b[0;31m# Create the parser.\u001b[0m\u001b[0;34m\u001b[0m\u001b[0;34m\u001b[0m\u001b[0;34m\u001b[0m\u001b[0m\n\u001b[0;32m--> 440\u001b[0;31m     \u001b[0mparser\u001b[0m \u001b[0;34m=\u001b[0m \u001b[0mTextFileReader\u001b[0m\u001b[0;34m(\u001b[0m\u001b[0mfilepath_or_buffer\u001b[0m\u001b[0;34m,\u001b[0m \u001b[0;34m**\u001b[0m\u001b[0mkwds\u001b[0m\u001b[0;34m)\u001b[0m\u001b[0;34m\u001b[0m\u001b[0;34m\u001b[0m\u001b[0m\n\u001b[0m\u001b[1;32m    441\u001b[0m \u001b[0;34m\u001b[0m\u001b[0m\n\u001b[1;32m    442\u001b[0m     \u001b[0;32mif\u001b[0m \u001b[0mchunksize\u001b[0m \u001b[0;32mor\u001b[0m \u001b[0miterator\u001b[0m\u001b[0;34m:\u001b[0m\u001b[0;34m\u001b[0m\u001b[0;34m\u001b[0m\u001b[0m\n",
      "\u001b[0;32m/usr/local/lib/python3.7/site-packages/pandas/io/parsers.py\u001b[0m in \u001b[0;36m__init__\u001b[0;34m(self, f, engine, **kwds)\u001b[0m\n\u001b[1;32m    785\u001b[0m             \u001b[0mself\u001b[0m\u001b[0;34m.\u001b[0m\u001b[0moptions\u001b[0m\u001b[0;34m[\u001b[0m\u001b[0;34m'has_index_names'\u001b[0m\u001b[0;34m]\u001b[0m \u001b[0;34m=\u001b[0m \u001b[0mkwds\u001b[0m\u001b[0;34m[\u001b[0m\u001b[0;34m'has_index_names'\u001b[0m\u001b[0;34m]\u001b[0m\u001b[0;34m\u001b[0m\u001b[0;34m\u001b[0m\u001b[0m\n\u001b[1;32m    786\u001b[0m \u001b[0;34m\u001b[0m\u001b[0m\n\u001b[0;32m--> 787\u001b[0;31m         \u001b[0mself\u001b[0m\u001b[0;34m.\u001b[0m\u001b[0m_make_engine\u001b[0m\u001b[0;34m(\u001b[0m\u001b[0mself\u001b[0m\u001b[0;34m.\u001b[0m\u001b[0mengine\u001b[0m\u001b[0;34m)\u001b[0m\u001b[0;34m\u001b[0m\u001b[0;34m\u001b[0m\u001b[0m\n\u001b[0m\u001b[1;32m    788\u001b[0m \u001b[0;34m\u001b[0m\u001b[0m\n\u001b[1;32m    789\u001b[0m     \u001b[0;32mdef\u001b[0m \u001b[0mclose\u001b[0m\u001b[0;34m(\u001b[0m\u001b[0mself\u001b[0m\u001b[0;34m)\u001b[0m\u001b[0;34m:\u001b[0m\u001b[0;34m\u001b[0m\u001b[0;34m\u001b[0m\u001b[0m\n",
      "\u001b[0;32m/usr/local/lib/python3.7/site-packages/pandas/io/parsers.py\u001b[0m in \u001b[0;36m_make_engine\u001b[0;34m(self, engine)\u001b[0m\n\u001b[1;32m   1012\u001b[0m     \u001b[0;32mdef\u001b[0m \u001b[0m_make_engine\u001b[0m\u001b[0;34m(\u001b[0m\u001b[0mself\u001b[0m\u001b[0;34m,\u001b[0m \u001b[0mengine\u001b[0m\u001b[0;34m=\u001b[0m\u001b[0;34m'c'\u001b[0m\u001b[0;34m)\u001b[0m\u001b[0;34m:\u001b[0m\u001b[0;34m\u001b[0m\u001b[0;34m\u001b[0m\u001b[0m\n\u001b[1;32m   1013\u001b[0m         \u001b[0;32mif\u001b[0m \u001b[0mengine\u001b[0m \u001b[0;34m==\u001b[0m \u001b[0;34m'c'\u001b[0m\u001b[0;34m:\u001b[0m\u001b[0;34m\u001b[0m\u001b[0;34m\u001b[0m\u001b[0m\n\u001b[0;32m-> 1014\u001b[0;31m             \u001b[0mself\u001b[0m\u001b[0;34m.\u001b[0m\u001b[0m_engine\u001b[0m \u001b[0;34m=\u001b[0m \u001b[0mCParserWrapper\u001b[0m\u001b[0;34m(\u001b[0m\u001b[0mself\u001b[0m\u001b[0;34m.\u001b[0m\u001b[0mf\u001b[0m\u001b[0;34m,\u001b[0m \u001b[0;34m**\u001b[0m\u001b[0mself\u001b[0m\u001b[0;34m.\u001b[0m\u001b[0moptions\u001b[0m\u001b[0;34m)\u001b[0m\u001b[0;34m\u001b[0m\u001b[0;34m\u001b[0m\u001b[0m\n\u001b[0m\u001b[1;32m   1015\u001b[0m         \u001b[0;32melse\u001b[0m\u001b[0;34m:\u001b[0m\u001b[0;34m\u001b[0m\u001b[0;34m\u001b[0m\u001b[0m\n\u001b[1;32m   1016\u001b[0m             \u001b[0;32mif\u001b[0m \u001b[0mengine\u001b[0m \u001b[0;34m==\u001b[0m \u001b[0;34m'python'\u001b[0m\u001b[0;34m:\u001b[0m\u001b[0;34m\u001b[0m\u001b[0;34m\u001b[0m\u001b[0m\n",
      "\u001b[0;32m/usr/local/lib/python3.7/site-packages/pandas/io/parsers.py\u001b[0m in \u001b[0;36m__init__\u001b[0;34m(self, src, **kwds)\u001b[0m\n\u001b[1;32m   1706\u001b[0m         \u001b[0mkwds\u001b[0m\u001b[0;34m[\u001b[0m\u001b[0;34m'usecols'\u001b[0m\u001b[0;34m]\u001b[0m \u001b[0;34m=\u001b[0m \u001b[0mself\u001b[0m\u001b[0;34m.\u001b[0m\u001b[0musecols\u001b[0m\u001b[0;34m\u001b[0m\u001b[0;34m\u001b[0m\u001b[0m\n\u001b[1;32m   1707\u001b[0m \u001b[0;34m\u001b[0m\u001b[0m\n\u001b[0;32m-> 1708\u001b[0;31m         \u001b[0mself\u001b[0m\u001b[0;34m.\u001b[0m\u001b[0m_reader\u001b[0m \u001b[0;34m=\u001b[0m \u001b[0mparsers\u001b[0m\u001b[0;34m.\u001b[0m\u001b[0mTextReader\u001b[0m\u001b[0;34m(\u001b[0m\u001b[0msrc\u001b[0m\u001b[0;34m,\u001b[0m \u001b[0;34m**\u001b[0m\u001b[0mkwds\u001b[0m\u001b[0;34m)\u001b[0m\u001b[0;34m\u001b[0m\u001b[0;34m\u001b[0m\u001b[0m\n\u001b[0m\u001b[1;32m   1709\u001b[0m \u001b[0;34m\u001b[0m\u001b[0m\n\u001b[1;32m   1710\u001b[0m         \u001b[0mpassed_names\u001b[0m \u001b[0;34m=\u001b[0m \u001b[0mself\u001b[0m\u001b[0;34m.\u001b[0m\u001b[0mnames\u001b[0m \u001b[0;32mis\u001b[0m \u001b[0;32mNone\u001b[0m\u001b[0;34m\u001b[0m\u001b[0;34m\u001b[0m\u001b[0m\n",
      "\u001b[0;32mpandas/_libs/parsers.pyx\u001b[0m in \u001b[0;36mpandas._libs.parsers.TextReader.__cinit__\u001b[0;34m()\u001b[0m\n",
      "\u001b[0;32mpandas/_libs/parsers.pyx\u001b[0m in \u001b[0;36mpandas._libs.parsers.TextReader._setup_parser_source\u001b[0;34m()\u001b[0m\n",
      "\u001b[0;31mFileNotFoundError\u001b[0m: File b'../input/wsdm-kkbox/train.csv' does not exist"
     ]
    }
   ],
   "source": [
    "train = pd.read_csv('../input/wsdm-kkbox/train.csv')\n",
    "test = pd.read_csv('../input/wsdm-kkbox/test.csv')\n",
    "songs = pd.read_csv('../input/wsdm-kkbox/songs.csv')\n",
    "members = pd.read_csv('../input/wsdm-kkbox/members.csv')"
   ]
  },
  {
   "cell_type": "code",
   "execution_count": null,
   "metadata": {
    "_uuid": "014a2bee5f104270324607afced471433b265329"
   },
   "outputs": [],
   "source": [
    "train.head()"
   ]
  },
  {
   "cell_type": "code",
   "execution_count": null,
   "metadata": {
    "_uuid": "a149f2dbca3ecadb2181cc7afcf5d5a29a6e8262"
   },
   "outputs": [],
   "source": [
    "test.head()"
   ]
  },
  {
   "cell_type": "code",
   "execution_count": null,
   "metadata": {
    "_uuid": "6c2f34469d2a913b60728d543d4d79e71c44aba8"
   },
   "outputs": [],
   "source": [
    "songs.head()"
   ]
  },
  {
   "cell_type": "code",
   "execution_count": null,
   "metadata": {
    "_uuid": "8d709f943d1f36abe93fec8afab68f2866154d73"
   },
   "outputs": [],
   "source": [
    "members.head()"
   ]
  },
  {
   "cell_type": "code",
   "execution_count": null,
   "metadata": {
    "_uuid": "ed927da3814d6bfd571bb6c34725973e242f21c4"
   },
   "outputs": [],
   "source": [
    "members.shape\n",
    "train.info()\n",
    "print(\"\\n\")\n",
    "songs.info()\n",
    "print(\"\\n\")\n",
    "members.info()"
   ]
  },
  {
   "cell_type": "code",
   "execution_count": null,
   "metadata": {},
   "outputs": [],
   "source": [
    "SMALL_SIZE = 14\n",
    "MEDIUM_SIZE = 16\n",
    "BIGGER_SIZE = 20\n",
    "\n",
    "plt.rc('font', size=SMALL_SIZE)          # controls default text sizes\n",
    "plt.rc('axes', titlesize=SMALL_SIZE)     # fontsize of the axes title\n",
    "plt.rc('axes', labelsize=MEDIUM_SIZE)    # fontsize of the x and y labels\n",
    "plt.rc('xtick', labelsize=SMALL_SIZE)    # fontsize of the tick labels\n",
    "plt.rc('ytick', labelsize=SMALL_SIZE)    # fontsize of the tick labels\n",
    "plt.rc('legend', fontsize=SMALL_SIZE)    # legend fontsize\n",
    "plt.rc('figure', titlesize=BIGGER_SIZE)  # fontsize of the figure title"
   ]
  },
  {
   "cell_type": "code",
   "execution_count": null,
   "metadata": {
    "_uuid": "6d13597482efa1d58c936a58530b2c9dff31b0b4"
   },
   "outputs": [],
   "source": [
    "plt.figure(figsize=(10,8))\n",
    "sns.countplot(y='source_type',data=train,order=pd.value_counts(train['source_type']).iloc[:10].index)\n",
    "plt.xlabel('count')\n",
    "plt.ylabel('source types')\n",
    "plt.title('Count for top 10 source types in training set')\n",
    "plt.savefig('source_type.png')"
   ]
  },
  {
   "cell_type": "code",
   "execution_count": null,
   "metadata": {
    "_uuid": "199caf38d3c85c3f8b86115dd9555e3d4af1c2fc"
   },
   "outputs": [],
   "source": [
    "plt.figure(figsize=(10,8))\n",
    "sns.countplot(y='source_system_tab',data=train,order=pd.value_counts(train['source_system_tab']).index)\n",
    "plt.xlabel('count')\n",
    "plt.ylabel('source system tab')\n",
    "plt.title('Count for source system tab in training set')\n",
    "plt.savefig('source_system_tab.png')"
   ]
  },
  {
   "cell_type": "code",
   "execution_count": null,
   "metadata": {},
   "outputs": [],
   "source": [
    "plt.figure(figsize=(10,8))\n",
    "sns.countplot(y='source_screen_name',data=train,order=pd.value_counts(train['source_screen_name']).iloc[:10].index)\n",
    "plt.xlabel('count')\n",
    "plt.ylabel('source screen name')\n",
    "plt.title('Count for top 10 source screen name in training set')\n",
    "plt.savefig('source_screen_name.png')"
   ]
  },
  {
   "cell_type": "code",
   "execution_count": null,
   "metadata": {},
   "outputs": [],
   "source": [
    "import matplotlib as mpl\n",
    "\n",
    "mpl.rcParams['font.size'] = 36\n",
    "labels = ['Male','Female']\n",
    "plt.figure(figsize = (10, 10))\n",
    "sizes = pd.value_counts(members.gender)\n",
    "patches, texts, autotexts = plt.pie(sizes, \n",
    "                                    labels=labels, autopct='%.0f%%',\n",
    "                                    shadow=False, radius=1,startangle=90)\n",
    "texts[0].set_fontsize(36)\n",
    "texts[1].set_fontsize(36)\n",
    "plt.title(\"gender distribution\",fontsize=40)\n",
    "plt.savefig('gender.png')\n"
   ]
  },
  {
   "cell_type": "code",
   "execution_count": null,
   "metadata": {
    "_uuid": "8886168486eb3c5a18d11d1da4bbea87864358fe"
   },
   "outputs": [],
   "source": [
    "\n",
    "mpl.rcParams['font.size'] = 36\n",
    "labels = ['1','0']\n",
    "plt.figure(figsize = (10, 10))\n",
    "sizes = pd.value_counts(train.target)\n",
    "patches, texts, autotexts = plt.pie(sizes, \n",
    "                                    labels=labels, autopct='%.0f%%',\n",
    "                                    shadow=False, radius=1,startangle=90)\n",
    "texts[0].set_fontsize(36)\n",
    "texts[1].set_fontsize(36)\n",
    "plt.title(\"label distribution\",fontsize=40)\n",
    "plt.savefig('label.png')\n"
   ]
  },
  {
   "cell_type": "markdown",
   "metadata": {},
   "source": [
    "## Data Processing & Feature Engineering"
   ]
  },
  {
   "cell_type": "code",
   "execution_count": null,
   "metadata": {},
   "outputs": [],
   "source": [
    "# Add index feature\n",
    "index = [i for i in range(len(train))]\n",
    "train['index'] = index;\n",
    "\n",
    "# Add timeseries feature\n",
    "train = train.sort_values(by=['msno','index'])\n",
    "cur_msno = None\n",
    "timeseries = []\n",
    "num = 0\n",
    "for each in train['msno']:\n",
    "    if each != cur_msno:\n",
    "        cur_msno = each\n",
    "        num = 0\n",
    "    timeseries.append(num)\n",
    "    num += 1\n",
    "train['timeseries'] = timeseries\n",
    "\n",
    "# Take 20 percent of all user activities\n",
    "train = train.sample(frac=0.01)\n",
    "\n",
    "\n",
    "# join songs data\n",
    "train = pd.merge(train, songs, on='song_id', how='left')\n",
    "del songs\n",
    "\n",
    "# join members data\n",
    "train = pd.merge(train, members, on='msno', how='left')\n",
    "del members\n"
   ]
  },
  {
   "cell_type": "code",
   "execution_count": null,
   "metadata": {},
   "outputs": [],
   "source": [
    "train.head()"
   ]
  },
  {
   "cell_type": "code",
   "execution_count": null,
   "metadata": {},
   "outputs": [],
   "source": [
    "# Replace NA in the data\n",
    "for i in train.select_dtypes(include=['object']).columns:\n",
    "    train[i][train[i].isnull()] = 'unknown'\n",
    "train = train.fillna(value=0)\n",
    "\n",
    "# Convert time to datetime\n",
    "train.registration_init_time = pd.to_datetime(train.registration_init_time, format='%Y%m%d', errors='ignore')\n",
    "train.expiration_date = pd.to_datetime(train.expiration_date,  format='%Y%m%d', errors='ignore')\n",
    "\n",
    "# Dates to categoty\n",
    "train['registration_init_time'] = train['registration_init_time'].astype('category')\n",
    "train['expiration_date'] = train['expiration_date'].astype('category')\n",
    "\n",
    "# Object data to category\n",
    "for col in train.select_dtypes(include=['object']).columns:\n",
    "    train[col] = train[col].astype('category')\n",
    "    \n",
    "# Encoding categorical features\n",
    "for col in train.select_dtypes(include=['category']).columns:\n",
    "    train[col] = train[col].cat.codes"
   ]
  },
  {
   "cell_type": "code",
   "execution_count": null,
   "metadata": {},
   "outputs": [],
   "source": [
    "# Сorrelation matrix\n",
    "plt.figure(figsize = (10, 7))\n",
    "sns_plot = sns.heatmap(train.corr())\n",
    "plt.title('Сorrelation matrix')\n",
    "fig = sns_plot.get_figure()\n",
    "fig.savefig('correlation.png')"
   ]
  },
  {
   "cell_type": "code",
   "execution_count": null,
   "metadata": {},
   "outputs": [],
   "source": [
    "# From the correlation matrixmm we know that lyricist is very similar to composer\n",
    "# so we drop the lyricist feature\n",
    "train = train.drop(['lyricist'], 1)"
   ]
  },
  {
   "cell_type": "markdown",
   "metadata": {},
   "source": [
    "## Random Forest Model\n"
   ]
  },
  {
   "cell_type": "code",
   "execution_count": null,
   "metadata": {},
   "outputs": [],
   "source": [
    "from sklearn import cross_validation, grid_search, metrics, ensemble\n",
    "\n",
    "# Train & Test split\n",
    "target = train.pop('target')\n",
    "train_data, test_data, train_labels, test_labels = cross_validation.train_test_split(train, target, test_size = 0.3)\n",
    "\n",
    "# Create Model\n",
    "random_forest = ensemble.RandomForestClassifier(n_estimators=250, max_depth=25)\n",
    "random_forest.fit(train_data, train_labels)\n",
    "\n"
   ]
  },
  {
   "cell_type": "code",
   "execution_count": null,
   "metadata": {},
   "outputs": [],
   "source": [
    "# Predicting\n",
    "predict_labels = random_forest.predict(test_data)"
   ]
  },
  {
   "cell_type": "code",
   "execution_count": null,
   "metadata": {},
   "outputs": [],
   "source": [
    "# RF Feature of Importance Plot\n",
    "plt.figure(figsize = (12, 10))\n",
    "train_plot = pd.DataFrame({'features': train.columns[train.columns != 'target'],\n",
    "                        'importances': random_forest.feature_importances_})\n",
    "train_plot = train_plot.sort_values('importances', ascending=False)\n",
    "\n",
    "sns_plot = sns.barplot(x = train_plot.importances, y = train_plot.features)\n",
    "plt.title('Random Forest Importances of Features Plot')\n",
    "plt.show()\n",
    "fig = sns_plot.get_figure()\n",
    "fig.savefig('importance.png')"
   ]
  },
  {
   "cell_type": "code",
   "execution_count": null,
   "metadata": {},
   "outputs": [],
   "source": [
    "from sklearn.metrics import accuracy_score\n",
    "\n",
    "# Print the evaluation metrics\n",
    "print(accuracy_score(test_labels, predict_labels))\n",
    "print(metrics.classification_report(test_labels, predict_labels))"
   ]
  },
  {
   "cell_type": "markdown",
   "metadata": {},
   "source": [
    "## XGboost"
   ]
  },
  {
   "cell_type": "code",
   "execution_count": null,
   "metadata": {},
   "outputs": [],
   "source": [
    "import xgboost as xgb\n",
    "\n",
    "# Create model\n",
    "xg_boost = xgb.XGBClassifier(learning_rate=0.05, max_depth=18, min_child_weight=5, n_estimators=250)\n",
    "xg_boost.fit(train_data, train_labels)"
   ]
  },
  {
   "cell_type": "code",
   "execution_count": null,
   "metadata": {},
   "outputs": [],
   "source": [
    "# Predicting\n",
    "predict_labels2 = xg_boost.predict(test_data)"
   ]
  },
  {
   "cell_type": "code",
   "execution_count": null,
   "metadata": {},
   "outputs": [],
   "source": [
    "# XGboost Feature of Importance Plot\n",
    "plt.figure(figsize = (12, 10))\n",
    "train_plot = pd.DataFrame({'features': train.columns[train.columns != 'target'],\n",
    "                        'importances': xg_boost.feature_importances_})\n",
    "train_plot = train_plot.sort_values('importances', ascending=False)\n",
    "\n",
    "sns_plot = sns.barplot(x = train_plot.importances, y = train_plot.features)\n",
    "plt.title('XGboost Importances of Features Plot')\n",
    "plt.show()\n",
    "fig = sns_plot.get_figure()\n",
    "fig.savefig('importance_XG.png')"
   ]
  },
  {
   "cell_type": "code",
   "execution_count": null,
   "metadata": {},
   "outputs": [],
   "source": [
    "\n",
    "# Evaluation metrics\n",
    "print(accuracy_score(test_labels, predict_labels2))\n",
    "print(metrics.classification_report(test_labels, predict_labels2))"
   ]
  },
  {
   "cell_type": "markdown",
   "metadata": {},
   "source": [
    "## AdaBoost"
   ]
  },
  {
   "cell_type": "code",
   "execution_count": null,
   "metadata": {},
   "outputs": [],
   "source": [
    "from sklearn.ensemble import AdaBoostClassifier\n",
    "\n",
    "ada_boost = AdaBoostClassifier(n_estimators=250, random_state=0, algorithm='SAMME')\n",
    "ada_boost.fit(train_data, train_labels)"
   ]
  },
  {
   "cell_type": "code",
   "execution_count": null,
   "metadata": {},
   "outputs": [],
   "source": [
    "# Predicting\n",
    "predict_labels3 = ada_boost.predict(test_data)"
   ]
  },
  {
   "cell_type": "code",
   "execution_count": null,
   "metadata": {},
   "outputs": [],
   "source": [
    "# AdaBoost Feature of Importance Plot\n",
    "plt.figure(figsize = (12, 10))\n",
    "train_plot = pd.DataFrame({'features': train.columns[train.columns != 'target'],\n",
    "                        'importances': ada_boost.feature_importances_})\n",
    "train_plot = train_plot.sort_values('importances', ascending=False)\n",
    "\n",
    "sns_plot = sns.barplot(x = train_plot.importances, y = train_plot.features)\n",
    "plt.title('Adaboost Importances of Features Plot')\n",
    "plt.show()\n",
    "fig = sns_plot.get_figure()\n",
    "fig.savefig('importance_Ada.png')"
   ]
  },
  {
   "cell_type": "code",
   "execution_count": null,
   "metadata": {},
   "outputs": [],
   "source": [
    "# Evaluation metrics\n",
    "print(accuracy_score(test_labels, predict_labels3))\n",
    "print(metrics.classification_report(test_labels, predict_labels3))"
   ]
  },
  {
   "cell_type": "markdown",
   "metadata": {},
   "source": [
    "## Gradient Boosting"
   ]
  },
  {
   "cell_type": "code",
   "execution_count": null,
   "metadata": {},
   "outputs": [],
   "source": [
    "from sklearn.ensemble import GradientBoostingClassifier\n",
    "gradient_boost = GradientBoostingClassifier()\n",
    "gradient_boost.fit(train_data, train_labels)"
   ]
  },
  {
   "cell_type": "code",
   "execution_count": null,
   "metadata": {},
   "outputs": [],
   "source": [
    "# Predicting\n",
    "predict_labels4 = gradient_boost.predict(test_data)"
   ]
  },
  {
   "cell_type": "code",
   "execution_count": null,
   "metadata": {},
   "outputs": [],
   "source": [
    "# Gradient Feature of Importance Plot\n",
    "plt.figure(figsize = (12, 10))\n",
    "train_plot = pd.DataFrame({'features': train.columns[train.columns != 'target'],\n",
    "                        'importances': gradient_boost.feature_importances_})\n",
    "train_plot = train_plot.sort_values('importances', ascending=False)\n",
    "\n",
    "sns_plot = sns.barplot(x = train_plot.importances, y = train_plot.features)\n",
    "plt.title('Gradientboost Importances of Features Plot')\n",
    "plt.show()\n",
    "fig = sns_plot.get_figure()\n",
    "fig.savefig('importance_Gradient.png')"
   ]
  },
  {
   "cell_type": "code",
   "execution_count": null,
   "metadata": {},
   "outputs": [],
   "source": [
    "# Evaluation metrics\n",
    "print(accuracy_score(test_labels, predict_labels4))\n",
    "\n",
    "print(metrics.classification_report(test_labels, predict_labels4))"
   ]
  },
  {
   "cell_type": "markdown",
   "metadata": {},
   "source": [
    "## Model Analysis"
   ]
  },
  {
   "cell_type": "code",
   "execution_count": null,
   "metadata": {},
   "outputs": [],
   "source": [
    "\n",
    "# plot all the importance in one graph\n",
    "df = pd.DataFrame({'features': [str(i) for i in train.columns if i!= 'target'],\n",
    "                            'random_forest': random_forest.feature_importances_,\n",
    "                            'xg_boost': xg_boost.feature_importances_,\n",
    "                            'ada_boost': ada_boost.feature_importances_,\n",
    "                            'gradient_boost': gradient_boost.feature_importances_,})\n",
    "\n",
    "\n",
    "plt.figure(figsize = (16, 10))\n",
    "\n",
    "ax = plt.gca()\n",
    "\n",
    "df.plot(kind='line', x='features', ax=ax)\n",
    "plt.xticks(range(len(df.features)), df.features, rotation='vertical')\n",
    "plt.title('Importances of Features Plot')\n",
    "plt.show()"
   ]
  },
  {
   "cell_type": "markdown",
   "metadata": {},
   "source": [
    "## Collaborative Filtering"
   ]
  },
  {
   "cell_type": "code",
   "execution_count": null,
   "metadata": {},
   "outputs": [],
   "source": [
    "import surprise\n",
    "\n",
    "\n",
    "algo = surprise.SVD()\n",
    "reader = surprise.Reader(rating_scale=(0,1))\n",
    "\n",
    "# Construct User rating matrix\n",
    "svd_train_data = train_data[['msno', 'song_id']]\n",
    "svd_train_data['target'] = train_labels\n",
    "\n",
    "# Train the model\n",
    "svd_data = surprise.Dataset.load_from_df(svd_train_data, reader)\n",
    "svd_data = svd_data.build_full_trainset()\n",
    "\n",
    "algo.fit(svd_data)\n"
   ]
  },
  {
   "cell_type": "code",
   "execution_count": null,
   "metadata": {},
   "outputs": [],
   "source": [
    "\n",
    "# Make predicitons using the trained model\n",
    "svd_test_data = test_data[['msno', 'song_id']]\n",
    "\n",
    "svd_predict_est = []\n",
    "\n",
    "for index, row in svd_test_data.iterrows():\n",
    "    est = algo.predict(row['msno'], row['song_id']).est\n",
    "    svd_predict_est.append((est))\n",
    "svd_predict_labels = [round(pred) for pred in svd_predict_est]\n"
   ]
  },
  {
   "cell_type": "code",
   "execution_count": null,
   "metadata": {},
   "outputs": [],
   "source": [
    "# Evaluation Metrics\n",
    "print(accuracy_score(test_labels, svd_predict_labels))\n",
    "print(metrics.classification_report(test_labels, svd_predict_labels))"
   ]
  },
  {
   "cell_type": "markdown",
   "metadata": {},
   "source": [
    "## Combined Model"
   ]
  },
  {
   "cell_type": "code",
   "execution_count": null,
   "metadata": {},
   "outputs": [],
   "source": [
    "\n",
    "rf_predict_labels = random_forest.predict_proba(test_data) \n",
    "xg_predict_labels = xg_boost.predict_proba(test_data) \n",
    "rf_predict_est = [tup[1] for tup in rf_predict_labels]\n",
    "xg_predict_est = [tup[1] for tup in xg_predict_labels]\n",
    "\n",
    "n = len(rf_predict_est)\n",
    "\n",
    "\n",
    "# SVD-XG-RF model\n",
    "combined_predict_labels = [round((rf_predict_est[i]+xg_predict_est[i]+svd_predict_est[i])/3) for i in range(n)]\n",
    "\n",
    "print(accuracy_score(test_labels, combined_predict_labels))\n",
    "print(metrics.classification_report(test_labels, combined_predict_labels))\n"
   ]
  },
  {
   "cell_type": "code",
   "execution_count": null,
   "metadata": {},
   "outputs": [],
   "source": [
    "# SVD-XG model\n",
    "combined_predict_labels2 = [round((xg_predict_est[i]+svd_predict_est[i])/2) for i in range(n)]\n",
    "\n",
    "print(accuracy_score(test_labels, combined_predict_labels2))\n",
    "print(metrics.classification_report(test_labels, combined_predict_labels2))"
   ]
  },
  {
   "cell_type": "code",
   "execution_count": null,
   "metadata": {},
   "outputs": [],
   "source": [
    "# SVD-RF model \n",
    "combined_predict_labels3 = [round((rf_predict_est[i]+svd_predict_est[i])/2) for i in range(n)]\n",
    "\n",
    "print(accuracy_score(test_labels, combined_predict_labels3))\n",
    "print(metrics.classification_report(test_labels, combined_predict_labels3))"
   ]
  }
 ],
 "metadata": {
  "kernelspec": {
   "display_name": "Python 3",
   "language": "python",
   "name": "python3"
  },
  "language_info": {
   "codemirror_mode": {
    "name": "ipython",
    "version": 3
   },
   "file_extension": ".py",
   "mimetype": "text/x-python",
   "name": "python",
   "nbconvert_exporter": "python",
   "pygments_lexer": "ipython3",
   "version": "3.7.3"
  }
 },
 "nbformat": 4,
 "nbformat_minor": 4
}
